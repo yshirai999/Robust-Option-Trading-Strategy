{
 "cells": [
  {
   "cell_type": "markdown",
   "metadata": {},
   "source": [
    "# How to run matlab files from python script\n",
    "\n",
    "- First, we need to install the MATLAB API for Python. On Windows, this can be done by following these steps:\n",
    "  - type cmd in the search panel\n",
    "  - right click on Command Prompt\n",
    "  - click on \"run as administrator\"\n",
    "  - Type: `cd \"matlabroot/extern/engines/python\"`, where matlabroot is the folder in which matlab is installed\n",
    "    - To know matlabroot, type matlabroot in the command window on Matlab\n",
    "  - type `python setup.py install`\n",
    "\n",
    "- Next we need to install the Matlab library in the current environment\n",
    "  - This has been already installed in the maximin2 environment in the Github repo, so, once it is downloaded:\n",
    "    - activate the environment by typing `conda activate path/.conda`\n",
    "    - path is the address of the folder of the local repo, i.e. the folder where the repo was downloaded to\n",
    "    - you can get by right clicking on the maximin2 folder from the left panel\n",
    "  - Instead of downloading the repo, you may just run `python -m pip install matlabengine==9.13.7` in the VSCode terminal\n",
    "    - Note that you need at most python 3.10. The current version 3.11 is not yet incorporated in the library\n",
    "    - To downgrade to python 3.11, the easiest thing is to create a conda environment\n",
    "      - This is done by typing `conda create --name nenv python=3.10`, where\n",
    "        - `nenv` is the name of the new environment\n",
    "        - the new environment will need to be activated anytime you want to use matlab from python\n",
    "        - this can be done by typing `conda activate nenv` from the terminal\n",
    "    - Any MATLAB file in the folder open in VScode may then be run\n",
    "\n",
    "- Once the library is installed, MATLAB functions in the repo/local folder may be executed as shown below"
   ]
  },
  {
   "cell_type": "code",
   "execution_count": 1,
   "metadata": {},
   "outputs": [],
   "source": [
    "import numpy as np\n",
    "import matlab.engine"
   ]
  },
  {
   "cell_type": "markdown",
   "metadata": {},
   "source": [
    "First, we start MATLAB's engine"
   ]
  },
  {
   "cell_type": "code",
   "execution_count": 2,
   "metadata": {},
   "outputs": [],
   "source": [
    "eng = matlab.engine.start_matlab()"
   ]
  },
  {
   "cell_type": "markdown",
   "metadata": {},
   "source": [
    "MATLAB built-in functions may be called as methods of the `eng` class"
   ]
  },
  {
   "cell_type": "code",
   "execution_count": 3,
   "metadata": {},
   "outputs": [
    {
     "name": "stdout",
     "output_type": "stream",
     "text": [
      "2.0\n"
     ]
    }
   ],
   "source": [
    "print(eng.sqrt(4.0))"
   ]
  },
  {
   "cell_type": "markdown",
   "metadata": {},
   "source": [
    "Most importantly, any MATLAB function may be called as follows"
   ]
  },
  {
   "cell_type": "code",
   "execution_count": 4,
   "metadata": {},
   "outputs": [
    {
     "name": "stdout",
     "output_type": "stream",
     "text": [
      "[[1.0,4.0,9.0,16.0]]\n"
     ]
    }
   ],
   "source": [
    "base = np.asarray([1.0,2.0,3.0,4.0])\n",
    "exp = 2.0\n",
    "ret = eng.pow_fun(matlab.double(base.tolist()),exp)\n",
    "print(ret)"
   ]
  },
  {
   "cell_type": "markdown",
   "metadata": {},
   "source": [
    "Similarly, one may run a MATLAB script"
   ]
  },
  {
   "cell_type": "code",
   "execution_count": 5,
   "metadata": {},
   "outputs": [],
   "source": [
    "eng.BGDataReader(nargout = 0)"
   ]
  },
  {
   "cell_type": "code",
   "execution_count": 6,
   "metadata": {},
   "outputs": [],
   "source": [
    "from scipy.io import loadmat\n",
    "import pandas as pd\n",
    "\n",
    "mat = loadmat('bgset512.mat')\n",
    "# mdata = mat['bgset512']  # variable in mat file\n",
    "# mdtype = mdata.dtype  # dtypes of structures are \"unsized objects\"\n",
    "# # * SciPy reads in structures as structured NumPy arrays of dtype object\n",
    "# # * The size of the array is the size of the structure array, not the number\n",
    "# #   elements in any particular field. The shape defaults to 2-dimensional.\n",
    "# # * For convenience make a dictionary of the data using the names from dtypes\n",
    "# # * Since the structure has only one element, but is 2-D, index it at [0, 0]\n",
    "# ndata = {n: mdata[n][0, 0] for n in mdtype.names}\n",
    "# # Reconstruct the columns of the data table from just the time series\n",
    "# # Use the number of intervals to test if a field is a column or metadata\n",
    "# columns = [n for n, v in ndata.iteritems() if v.size == ndata['numIntervals']]\n",
    "# # now make a data frame, setting the time stamps as the index\n",
    "# df = pd.DataFrame(np.concatenate([ndata[c] for c in columns], axis=1),\n",
    "#                   index=[datetime(*ts) for ts in ndata['timestamps']],\n",
    "#                   columns=columns)\n"
   ]
  },
  {
   "cell_type": "code",
   "execution_count": 7,
   "metadata": {},
   "outputs": [
    {
     "name": "stdout",
     "output_type": "stream",
     "text": [
      "[[2.45063341e-02 1.31611686e+00 2.04586651e-02 1.53441623e+00]\n",
      " [4.33527127e-02 1.18987791e+00 3.88250476e-02 1.34694989e+00]\n",
      " [1.41905958e-02 1.00223248e+00 1.25380244e-02 1.03215805e+00]\n",
      " ...\n",
      " [3.14164844e-03 8.11613539e+00 6.99157050e-03 3.67615533e+00]\n",
      " [4.79012877e-03 1.10149370e+01 4.66656371e-03 1.10163677e+01]\n",
      " [3.10749134e-03 1.23883174e+00 3.19196827e-03 6.69163048e-01]]\n"
     ]
    }
   ],
   "source": [
    "print(mat['A'])"
   ]
  }
 ],
 "metadata": {
  "kernelspec": {
   "display_name": "Python 3",
   "language": "python",
   "name": "python3"
  },
  "language_info": {
   "codemirror_mode": {
    "name": "ipython",
    "version": 3
   },
   "file_extension": ".py",
   "mimetype": "text/x-python",
   "name": "python",
   "nbconvert_exporter": "python",
   "pygments_lexer": "ipython3",
   "version": "3.10.14"
  }
 },
 "nbformat": 4,
 "nbformat_minor": 2
}
